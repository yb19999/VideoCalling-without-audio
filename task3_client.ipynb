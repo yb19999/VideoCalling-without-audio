{
 "cells": [
  {
   "cell_type": "code",
   "execution_count": 7,
   "metadata": {},
   "outputs": [],
   "source": [
    "import cv2\n",
    "import socket\n",
    "\n",
    "s = socket.socket()\n",
    "s.setsockopt(socket.SOL_SOCKET,socket.SO_REUSEADDR,1)\n",
    "s.connect(('192.168.0.100',2222))\n",
    "\n",
    "cap = cv2.VideoCapture(0)\n",
    "\n",
    "def vide(c,addr):\n",
    "    ret , photo =cap.read()\n",
    "    s.send(photo.encode)\n",
    "    cv2.waitKey(10)\n",
    "    cv2.destroyAllWindows()\n",
    "    s.recv(1024)\n",
    "\n",
    "\n",
    "while cv2.waitKey(10) == 13:\n",
    "    vide(c,addr)\n",
    "    "
   ]
  },
  {
   "cell_type": "code",
   "execution_count": null,
   "metadata": {},
   "outputs": [],
   "source": [
    "cap.release"
   ]
  },
  {
   "cell_type": "code",
   "execution_count": null,
   "metadata": {},
   "outputs": [],
   "source": [
    "s.e"
   ]
  }
 ],
 "metadata": {
  "kernelspec": {
   "display_name": "Python 3",
   "language": "python",
   "name": "python3"
  },
  "language_info": {
   "codemirror_mode": {
    "name": "ipython",
    "version": 3
   },
   "file_extension": ".py",
   "mimetype": "text/x-python",
   "name": "python",
   "nbconvert_exporter": "python",
   "pygments_lexer": "ipython3",
   "version": "3.8.3"
  }
 },
 "nbformat": 4,
 "nbformat_minor": 4
}
